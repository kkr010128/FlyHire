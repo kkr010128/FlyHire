{
 "cells": [
  {
   "cell_type": "code",
   "execution_count": 38,
   "id": "b02b33ba-fd55-4592-b4ba-92bdc139fcec",
   "metadata": {},
   "outputs": [],
   "source": [
    "import pandas as pd\n",
    "import os"
   ]
  },
  {
   "cell_type": "code",
   "execution_count": 40,
   "id": "4de19d49-6dd4-4a4e-a329-4c3a0a0180e3",
   "metadata": {},
   "outputs": [
    {
     "data": {
      "text/plain": [
       "<module 'os' from '/opt/homebrew/Caskroom/miniconda/base/envs/flyhire/lib/python3.9/os.py'>"
      ]
     },
     "execution_count": 40,
     "metadata": {},
     "output_type": "execute_result"
    }
   ],
   "source": [
    "os"
   ]
  },
  {
   "cell_type": "code",
   "execution_count": 4,
   "id": "96392047-b1a6-4ac1-88fc-d77e4acf5493",
   "metadata": {},
   "outputs": [],
   "source": [
    "df = pd.read_csv(\"../data/2506.csv\")"
   ]
  },
  {
   "cell_type": "code",
   "execution_count": 44,
   "id": "34105fd2-b73d-427c-aaa2-c15a564ccf10",
   "metadata": {},
   "outputs": [],
   "source": [
    "def filter_employee_count(target):\n",
    "    if target == \"50\":\n",
    "        return df[df['가입자수'] <= 50]\n",
    "    elif target == \"51\":\n",
    "        return df[(df['가입자수'] >= 51) & (df['가입자수'] <= 300)]\n",
    "    elif target == \"301\":\n",
    "        return df[(df['가입자수'] >= 301) & (df['가입자수'] <= 1000)]\n",
    "    elif target == \"1001\":\n",
    "        return df[(df['가입자수'] >= 1001) & (df['가입자수'] <= 10000)]\n",
    "    elif target == \"10001\":\n",
    "        return df[df['가입자수'] >= 10001]"
   ]
  },
  {
   "cell_type": "code",
   "execution_count": null,
   "id": "20faa3df-e0b5-4985-8483-18da0287da38",
   "metadata": {},
   "outputs": [],
   "source": []
  }
 ],
 "metadata": {
  "kernelspec": {
   "display_name": "Python 3 (ipykernel)",
   "language": "python",
   "name": "python3"
  },
  "language_info": {
   "codemirror_mode": {
    "name": "ipython",
    "version": 3
   },
   "file_extension": ".py",
   "mimetype": "text/x-python",
   "name": "python",
   "nbconvert_exporter": "python",
   "pygments_lexer": "ipython3",
   "version": "3.9.23"
  }
 },
 "nbformat": 4,
 "nbformat_minor": 5
}
